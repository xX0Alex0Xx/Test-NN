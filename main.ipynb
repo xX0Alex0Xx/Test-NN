{
 "cells": [
  {
   "cell_type": "code",
   "execution_count": null,
   "metadata": {},
   "outputs": [],
   "source": [
    "from glob import glob\n",
    "from src.data.segmentation_dataset import SegmentationData\n",
    "from src.networks.segmentation_nn import SegmentationNN\n",
    "from torch.utils.data import DataLoader\n",
    "import torch\n",
    "from src.util import visualizer\n",
    "from src.util import accuracy"
   ]
  },
  {
   "cell_type": "code",
   "execution_count": null,
   "metadata": {},
   "outputs": [],
   "source": [
    "train_img = glob(r'data\\Cityspaces\\images\\train\\*\\*.png') \n",
    "train_label = glob(r'data\\Cityspaces\\gtFine\\train\\*\\*_gtFine_labelIds.png')\n",
    "val_img = glob(r'data\\Cityspaces\\images\\val\\*\\*.png') \n",
    "val_label = glob(r'data\\Cityspaces\\gtFine/val\\*\\*_gtFine_labelIds.png')"
   ]
  },
  {
   "cell_type": "code",
   "execution_count": null,
   "metadata": {},
   "outputs": [],
   "source": [
    "color_pixel={\n",
    "            0:0,\n",
    "            1:0,\n",
    "            2:0,\n",
    "            3:0,\n",
    "            4:0,\n",
    "            5:0,\n",
    "            6:0,\n",
    "            7:1,\n",
    "            8:8,\n",
    "            9:1,\n",
    "            10:1,\n",
    "            11:2,\n",
    "            12:2,\n",
    "            13:2,\n",
    "            14:2,\n",
    "            15:2,\n",
    "            16:2,\n",
    "            17:3,\n",
    "            18:3,\n",
    "            19:3,\n",
    "            20:3,\n",
    "            21:4,\n",
    "            22:4,\n",
    "            23:5,\n",
    "            24:6,\n",
    "            25:6,\n",
    "            26:7,\n",
    "            27:7,\n",
    "            28:7,\n",
    "            29:7,\n",
    "            30:7,\n",
    "            31:7,\n",
    "            32:7,\n",
    "            33:7,\n",
    "            34:7\n",
    "}\n",
    "\n",
    "color_map={\n",
    "            0:(255,255,255),\n",
    "            1:(128, 64,128),\n",
    "            2:( 70, 70, 70),\n",
    "            3:(153,153,153),\n",
    "            4:(107,142, 35),\n",
    "            5:( 70,130,180),\n",
    "            6:(220, 20, 60),\n",
    "            7:(  0,  0,142),\n",
    "            8:(244, 35,232),\n",
    "}\n",
    "\n",
    "hparams = {'batch_size':3,\n",
    "           'num_workers':8,\n",
    "           'lr':0.0001,\n",
    "           'device':'cuda',\n",
    "           'crop_size':500,\n",
    "           'num_classes':9,\n",
    "           'color_coder':color_pixel,\n",
    "           'crop_num':4,\n",
    "\n",
    "           }\n",
    "\n",
    "traindata = SegmentationData(hparams,train_img,train_label,False)\n",
    "valdata = SegmentationData(hparams,val_img,val_label,False)\n",
    "testdata = SegmentationData(hparams,val_img,val_label,True)\n",
    "\n",
    "train_dataloader = DataLoader(traindata, batch_size=hparams['batch_size'], shuffle=False, num_workers=hparams['num_workers'])\n",
    "val_dataloader = DataLoader(valdata, batch_size=hparams['batch_size'], shuffle=False, num_workers=hparams['num_workers'],drop_last=True)\n",
    "\n",
    "model = SegmentationNN(hparams=hparams).to(\"cuda\")\n",
    "model=torch.load(r'models\\model_segmentare')"
   ]
  },
  {
   "cell_type": "code",
   "execution_count": null,
   "metadata": {},
   "outputs": [],
   "source": [
    "import pytorch_lightning as pl\n",
    "from pytorch_lightning.callbacks.early_stopping import EarlyStopping\n",
    "\n",
    "early_stop_callback = EarlyStopping(monitor=\"val_loss\", patience=3  , verbose=True ,min_delta=0.001)\n",
    "trainer = pl.Trainer(\n",
    "    max_epochs=100,\n",
    "    min_epochs=5,\n",
    "    accelerator=\"auto\",\n",
    "    callbacks = [early_stop_callback]\n",
    ")\n",
    "\n",
    "trainer.fit(model, train_dataloader, val_dataloader)\n",
    "torch.save(model, r'models\\model_segmentare')"
   ]
  },
  {
   "cell_type": "code",
   "execution_count": null,
   "metadata": {},
   "outputs": [],
   "source": [
    "%load_ext tensorboard                                            \n",
    "%tensorboard --logdir lightning_logs --port 6006"
   ]
  },
  {
   "cell_type": "code",
   "execution_count": null,
   "metadata": {},
   "outputs": [],
   "source": [
    "model=torch.load(r'models\\model_segmentare')\n",
    "visualizer(model,10, testdata,color_map)"
   ]
  },
  {
   "cell_type": "code",
   "execution_count": null,
   "metadata": {},
   "outputs": [],
   "source": [
    "classes={0:'void',\n",
    "         1:'road',\n",
    "         2:'building',\n",
    "         3:'traffic sign',\n",
    "         4:'vegetation',\n",
    "         5:'sky',\n",
    "         6:'person',\n",
    "         7:'vehicle',\n",
    "         8:'sidewalk',     \n",
    "        }\n",
    "iou_mean,iou=accuracy(model,testdata,hparams['num_classes'])\n",
    "print('Iou mean : ',round(iou_mean,2),'%')\n",
    "for i in range(hparams['num_classes']):\n",
    "  print(classes[i],':',round(iou[i],2),'%')"
   ]
  }
 ],
 "metadata": {
  "kernelspec": {
   "display_name": "DL_proiect",
   "language": "python",
   "name": "python3"
  },
  "language_info": {
   "codemirror_mode": {
    "name": "ipython",
    "version": 3
   },
   "file_extension": ".py",
   "mimetype": "text/x-python",
   "name": "python",
   "nbconvert_exporter": "python",
   "pygments_lexer": "ipython3",
   "version": "3.10.9"
  },
  "orig_nbformat": 4
 },
 "nbformat": 4,
 "nbformat_minor": 2
}
